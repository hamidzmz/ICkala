{
 "cells": [
  {
   "cell_type": "code",
   "execution_count": 33,
   "outputs": [],
   "source": [
    "from __future__ import print_function\n",
    "import mysql.connector as mysql\n",
    "from mysql.connector import errorcode\n",
    "cnx = mysql.connect(host='localhost',user='root',\n",
    "                         password='00980351zmz')"
   ],
   "metadata": {
    "collapsed": false
   }
  },
  {
   "cell_type": "code",
   "execution_count": 34,
   "outputs": [
    {
     "name": "stdout",
     "output_type": "stream",
     "text": [
      "Database is created\n"
     ]
    }
   ],
   "source": [
    "if cnx.is_connected():\n",
    "     cursor = cnx.cursor()\n",
    "        # cursor.execute(\"CREATE DATABASE Productdb\")\n",
    "     print(\"Database is created\")"
   ],
   "metadata": {
    "collapsed": false
   }
  },
  {
   "cell_type": "code",
   "execution_count": 35,
   "outputs": [
    {
     "name": "stdout",
     "output_type": "stream",
     "text": [
      "{'Products': 'CREATE TABLE `Products` (  `Title` varchar(255) NOT NULL,  `Packages` varchar(255) NOT NULL,  `Price` int(255) NOT NULL,  `Category` varchar(255) NOT NULL,  `Quaintities` int(255) NOT NULL,  `Link` varchar(255) NOT NULL,  PRIMARY KEY (`Title`)) ENGINE=InnoDB'}\n"
     ]
    }
   ],
   "source": [
    "DB_NAME = 'shop'\n",
    "\n",
    "TABLES = {}\n",
    "TABLES['Products'] = (\n",
    "    \"CREATE TABLE `Products` (\"\n",
    "    \"  `Title` varchar(255) NOT NULL,\"\n",
    "    \"  `Packages` varchar(255) NOT NULL,\"\n",
    "    \"  `Price` int(255) NOT NULL,\"\n",
    "    \"  `Category` varchar(255) NOT NULL,\"\n",
    "    \"  `Quaintities` int(255) NOT NULL,\"\n",
    "    \"  `Link` varchar(255) NOT NULL,\"\n",
    "    \"  PRIMARY KEY (`Title`)\"\n",
    "    \") ENGINE=InnoDB\")\n",
    "print(TABLES)\n"
   ],
   "metadata": {
    "collapsed": false
   }
  },
  {
   "cell_type": "code",
   "execution_count": 36,
   "outputs": [],
   "source": [
    "def create_database(cursor):\n",
    "    try:\n",
    "        cursor.execute(\n",
    "            \"CREATE DATABASE {} DEFAULT CHARACTER SET 'utf8'\".format(DB_NAME))\n",
    "    except mysql.Error as err:\n",
    "        print(\"Failed creating database: {}\".format(err))\n",
    "        exit(1)\n",
    "\n",
    "try:\n",
    "    cursor.execute(\"USE {}\".format(DB_NAME))\n",
    "except mysql.Error as err:\n",
    "    print(\"Database {} does not exists.\".format(DB_NAME))\n",
    "    if err.errno == errorcode.ER_BAD_DB_ERROR:\n",
    "        create_database(cursor)\n",
    "        print(\"Database {} created successfully.\".format(DB_NAME))\n",
    "        cnx.database = DB_NAME\n",
    "    else:\n",
    "        print(err)\n",
    "        exit(1)"
   ],
   "metadata": {
    "collapsed": false
   }
  },
  {
   "cell_type": "code",
   "execution_count": 37,
   "outputs": [
    {
     "name": "stdout",
     "output_type": "stream",
     "text": [
      "Creating table Products: already exists.\n"
     ]
    }
   ],
   "source": [
    "for table_name in TABLES:\n",
    "    table_description = TABLES[table_name]\n",
    "    try:\n",
    "        print(\"Creating table {}: \".format(table_name), end='')\n",
    "        cursor.execute(table_description)\n",
    "    except mysql.Error as err:\n",
    "        if err.errno == errorcode.ER_TABLE_EXISTS_ERROR:\n",
    "            print(\"already exists.\")\n",
    "        else:\n",
    "            print(err.msg)\n",
    "    else:\n",
    "        print(\"OK\")\n",
    "\n",
    "cursor.close()\n",
    "cnx.close()"
   ],
   "metadata": {
    "collapsed": false
   }
  },
  {
   "cell_type": "code",
   "execution_count": 38,
   "outputs": [
    {
     "name": "stdout",
     "output_type": "stream",
     "text": [
      "Printing connection pool properties \n",
      "Connection Pool Name -  pynative_pool\n",
      "Connection Pool Size -  5\n",
      "Connected to MySQL database using connection pool ... MySQL Server version on  8.0.33\n",
      "Your connected to -  ('shop',)\n",
      "MySQL connection is closed\n"
     ]
    }
   ],
   "source": [
    "from mysql.connector import pooling\n",
    "from mysql.connector import Error\n",
    "\n",
    "\n",
    "try:\n",
    "    connection_pool = pooling.MySQLConnectionPool(pool_name=\"pynative_pool\",\n",
    "    pool_size=5,\n",
    "    pool_reset_session=True,\n",
    "    host='localhost',\n",
    "    database='shop',\n",
    "    user='root',\n",
    "    password='00980351zmz')\n",
    "\n",
    "    print(\"Printing connection pool properties \")\n",
    "    print(\"Connection Pool Name - \", connection_pool.pool_name)\n",
    "    print(\"Connection Pool Size - \", connection_pool.pool_size)\n",
    "\n",
    "    # Get connection object from a pool\n",
    "    connection_object = connection_pool.get_connection()\n",
    "\n",
    "    if connection_object.is_connected():\n",
    "        db_Info = connection_object.get_server_info()\n",
    "        print(\"Connected to MySQL database using connection pool ... MySQL Server version on \", db_Info)\n",
    "\n",
    "        cursor = connection_object.cursor()\n",
    "        cursor.execute(\"select database();\")\n",
    "        record = cursor.fetchone()\n",
    "        print(\"Your connected to - \", record)\n",
    "\n",
    "except Error as e:\n",
    "    print(\"Error while connecting to MySQL using Connection pool \", e)\n",
    "finally:\n",
    "    # closing database connection.\n",
    "    if connection_object.is_connected():\n",
    "        cursor.close()\n",
    "        connection_object.close()\n",
    "        print(\"MySQL connection is closed\")"
   ],
   "metadata": {
    "collapsed": false
   }
  },
  {
   "cell_type": "code",
   "execution_count": null,
   "outputs": [],
   "source": [],
   "metadata": {
    "collapsed": false
   }
  }
 ],
 "metadata": {
  "kernelspec": {
   "display_name": "Python 3",
   "language": "python",
   "name": "python3"
  },
  "language_info": {
   "codemirror_mode": {
    "name": "ipython",
    "version": 2
   },
   "file_extension": ".py",
   "mimetype": "text/x-python",
   "name": "python",
   "nbconvert_exporter": "python",
   "pygments_lexer": "ipython2",
   "version": "2.7.6"
  }
 },
 "nbformat": 4,
 "nbformat_minor": 0
}
